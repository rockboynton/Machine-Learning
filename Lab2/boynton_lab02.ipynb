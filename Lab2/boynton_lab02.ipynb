{
 "nbformat": 4,
 "nbformat_minor": 2,
 "metadata": {
  "language_info": {
   "name": "python",
   "codemirror_mode": {
    "name": "ipython",
    "version": 3
   },
   "version": "3.6.1"
  },
  "orig_nbformat": 2,
  "file_extension": ".py",
  "mimetype": "text/x-python",
  "name": "python",
  "npconvert_exporter": "python",
  "pygments_lexer": "ipython3",
  "version": 3
 },
 "cells": [
  {
   "cell_type": "markdown",
   "metadata": {},
   "outputs": [],
   "source": [
    "# K Nearest Neighbors\n",
    "\n",
    "Rock Boynton CS 4850\n",
    "\n",
    "\n",
    "## Introduction\n",
    "\n",
    "In this notebook, we will apply an implemation of the K Nearest Neighbors (KNN) classification and regression machine learning algorithm to some data, specifically the Iris dataset from scikit-learn. \n",
    "\n",
    "We will:\n",
    "\n",
    "    * see how accurate our model was compared to known values\n",
    "\n",
    "    * perform some analyses on the data itself from the results of the model, such as determining which features (or combinations of features) are able to best divide the classes\n",
    "    \n",
    "    * analyze the KNN algorithm, including its drawbacks and advantages\n",
    "\n",
    "This will provide a good introduction to some machine learning techniques."
   ]
  },
  {
   "cell_type": "markdown",
   "metadata": {},
   "outputs": [],
   "source": [
    "## Feature plots\n",
    "\n",
    "First, we must load in our KNN class, and iris dataset from `sklearn.datasets`"
   ]
  },
  {
   "cell_type": "code",
   "metadata": {},
   "outputs": [],
   "source": [
    "from Lab2.knn import KNN\n",
    "from sklearn.datasets import load_iris\n",
    "iris_dataset = load_iris()\n",
    "# print(dir(iris_dataset.data))"
   ]
  },
  {
   "cell_type": "markdown",
   "metadata": {},
   "outputs": [],
   "source": [
    "Now, we can make scatter plots of each feature vs every other feature, coloring the points by their targets(labels)"
   ]
  },
  {
   "cell_type": "code",
   "metadata": {},
   "outputs": [],
   "source": [
    "import matplotlib.pyplot as plt\n",
    "from itertools import permutations\n",
    "\n",
    "# FIXME add sublots and plot the right stuff\n",
    "for (x_label, y_label), (x1, x2) in zip(list(permutations(iris_dataset.feature_names,2)), list(permutations(range(len(iris_dataset.feature_names)), 2))):\n",
    "    plt.scatter(x, y)\n",
    "    plt.xlabel(x_label, fontsize=18)\n",
    "    plt.ylabel(y_label, fontsize=18)"
   ]
  },
  {
   "cell_type": "markdown",
   "metadata": {},
   "outputs": [],
   "source": [
    "## Classification\n",
    "\n",
    "To use the KNN algorithm we developed, we first need to divide the data into training and testing sets"
   ]
  },
  {
   "cell_type": "code",
   "metadata": {},
   "outputs": [],
   "source": [
    "from sklearn.model_selection import train_test_split\n",
    "train_X, test_X, train_y, test_y = train_test_split(iris_dataset.data, iris_dataset.target, stratify=iris_dataset.target)"
   ]
  },
  {
   "cell_type": "markdown",
   "metadata": {},
   "outputs": [],
   "source": [
    "Next, we use the `KNN` class we created to classify the flowers by species, comparing the accuracy (k = 1..10) of the predicted labels to the known labels for the testing set."
   ]
  },
  {
   "cell_type": "code",
   "metadata": {},
   "outputs": [],
   "source": [
    "from sklearn.metrics import accuracy_score\n",
    "\n",
    "accuracy = []\n",
    "for k in range(10):\n",
    "    knn = KNN(k, \"mode\")\n",
    "    knn.fit(train_X, train_y)\n",
    "    pred_y = knn.predict(test_X)\n",
    "    accuracy.append(accuracy_score(test_y, pred_y))\n",
    "\n",
    "plt.scatter(range(10), accuracy)\n",
    "plt.xlabel(\"k\", fontsize=18)\n",
    "plt.ylabel(\"Accuracy\", fontsize=18)"
   ]
  },
  {
   "cell_type": "markdown",
   "metadata": {},
   "outputs": [],
   "source": [
    "## Questions\n",
    "\n",
    "a. Based on the scatter plots of the features, which features (or combinations of features)\n",
    "are able to best separate the classes?\n",
    "\n",
    "        * \n",
    "\n",
    "b. Which value of k gives the best (highest) accuracy?\n",
    "\n",
    "        * \n",
    "\n",
    "c. What do you think the potential downsides of the k-nearest neighbors algorithm are?\n",
    "Why do you think it might not be used as widely as other methods?\n",
    "\n",
    "        *"
   ]
  },
  {
   "cell_type": "code",
   "metadata": {},
   "outputs": [],
   "source": []
  }
 ]
}