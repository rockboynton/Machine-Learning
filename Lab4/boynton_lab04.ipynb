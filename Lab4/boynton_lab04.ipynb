{
 "nbformat": 4,
 "nbformat_minor": 2,
 "metadata": {
  "language_info": {
   "name": "python",
   "codemirror_mode": {
    "name": "ipython",
    "version": 3
   },
   "version": "3.6.1-final"
  },
  "orig_nbformat": 2,
  "file_extension": ".py",
  "mimetype": "text/x-python",
  "name": "python",
  "npconvert_exporter": "python",
  "pygments_lexer": "ipython3",
  "version": 3,
  "kernelspec": {
   "name": "python36164bitrootconda6e0c314544c443b5938248d6fa4e1245",
   "display_name": "Python 3.6.1 64-bit ('root': conda)"
  }
 },
 "cells": [
  {
   "cell_type": "markdown",
   "execution_count": null,
   "metadata": {},
   "outputs": [],
   "source": [
    "# Calculus Review\n",
    "\n",
    "Rock Boynton | CS 4850"
   ]
  },
  {
   "cell_type": "code",
   "execution_count": null,
   "metadata": {},
   "outputs": [],
   "source": [
    "import sympy as sym\n",
    "import mpmath as mp\n",
    "import matplotlib.pyplot as plt \n",
    "import numpy as np        \n",
    "\n",
    "x = sym.Symbol('x')"
   ]
  },
  {
   "cell_type": "markdown",
   "execution_count": null,
   "metadata": {},
   "outputs": [],
   "source": [
    "## Question 1\n",
    "\n",
    "For each of the following, compute the derivative:"
   ]
  },
  {
   "cell_type": "code",
   "execution_count": null,
   "metadata": {},
   "outputs": [],
   "source": [
    "print(f'1. {sym.diff(3*x**4 - 16*x**3 + 18*x**2)}')\n",
    "print(f'2. {sym.diff(sym.log(x**2 + 10))}')\n",
    "print(f'3. {sym.diff(sym.log(x**2 * sym.sin(x), 10))}')\n",
    "print(f'4. {sym.diff(x * sym.E**(-x))}')\n",
    "print(f'5. {sym.diff((1 / (2 * sym.sqrt(2*sym.pi))) * sym.E**((-1/2) * ((x-5) / 2)))}')"
   ]
  },
  {
   "cell_type": "markdown",
   "execution_count": null,
   "metadata": {},
   "outputs": [],
   "source": [
    "## Question 2\n",
    "\n",
    "First derivatives can be used to find minima and maxima. For each of the functions below, (a)\n",
    "calculate the first derivative, (b) find the zeros of the derivative to find the minima and maxima,\n",
    "and (c) plot the function and verify your computed minima and maxima by plotting them as points\n",
    "on the graph."
   ]
  },
  {
   "cell_type": "code",
   "execution_count": null,
   "metadata": {},
   "outputs": [],
   "source": [
    "def question2(part_num, f, ylim=False):\n",
    "    axes = plt.gca()\n",
    "    if ylim: \n",
    "        axes.set_ylim(ylim)\n",
    "\n",
    "    f_lambda = sym.lambdify(x, f)\n",
    "    f_prime = sym.diff(f)\n",
    "    print(f'{part_num}a. {f}')\n",
    "\n",
    "    minimum = sym.solvers.solve(f_prime, x)\n",
    "    print(f'{part_num}b. {minimum}')\n",
    "\n",
    "    print(f'{part_num}c.')\n",
    "    x_range = np.linspace(-10, 10, 100)\n",
    "    plt.plot(x_range, f_lambda(x_range))\n",
    "    plt.scatter(minimum, f_lambda(np.array(minimum)), color='red')\n",
    "    for i_x, i_y in zip(minimum, np.array(minimum)):\n",
    "        plt.text(i_x, i_y, f'({i_x}, {i_y})')\n",
    "    plt.show()\n",
    "\n",
    "    print()\n",
    "\n",
    "\n",
    "question2('1', 5 * (x-3)**2 + 4)\n",
    "question2('2', x**3 - 3*x**2 - 144*x + 432)\n",
    "question2('3', 3*x**4 - 16*x**3 + 18*x**2, (-30, 10))"
   ]
  },
  {
   "cell_type": "markdown",
   "execution_count": null,
   "metadata": {},
   "outputs": [],
   "source": [
    "## Question 3\n",
    "\n",
    "For each of the points below, find the equations for the tangent lines for f(x) = 5(x − 3)2 + 4 and\n",
    "draw the tangent lines on a plot of f(x). Do you notice anything about the slopes as x gets farther\n",
    "away from the minima?"
   ]
  },
  {
   "cell_type": "code",
   "execution_count": null,
   "metadata": {},
   "outputs": [],
   "source": [
    "f_x = 5 * (x-3)**2 + 4\n",
    "\n",
    "def plot_tangent(f, x_val):\n",
    "    f_lambda = sym.lambdify(x, f)\n",
    "    f_prime = sym.diff(f)\n",
    "    f_prime_lambda = sym.lambdify(x, f_prime)\n",
    "\n",
    "    y1 = f_lambda(x_val)\n",
    "\n",
    "    m = f_prime_lambda(x_val)\n",
    "\n",
    "    f_tangent = m * (x - x_val) + y1\n",
    "    print(f_tangent)\n",
    "    f_tangent_lambda = sym.lambdify(x, f_tangent)\n",
    "\n",
    "    length = 100\n",
    "    x_range = np.linspace(-10, 10, 100)\n",
    "    plt.plot(x_range, f_lambda(x_range))\n",
    "    # doesn't plot correctly if labda function is a constant...why? and how do I fix that concisely?\n",
    "    plt.plot(x_range, f_tangent_lambda(x_range) if x_val != 3 else np.full(length, f_tangent_lambda(x_range)))\n",
    "    plt.show()\n",
    "\n",
    "    print()\n",
    "\n",
    "\n",
    "x_vals = [0, 1, 3, 5]\n",
    "for i, x_val in enumerate(x_vals):\n",
    "    print(f'{i+1}. x_{i+1} = {x_val}')\n",
    "    plot_tangent(f_x, x_val)"
   ]
  },
  {
   "cell_type": "code",
   "execution_count": null,
   "metadata": {},
   "outputs": [],
   "source": []
  }
 ]
}