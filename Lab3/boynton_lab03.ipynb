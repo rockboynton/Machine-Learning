{
 "nbformat": 4,
 "nbformat_minor": 2,
 "metadata": {
  "language_info": {
   "name": "python",
   "codemirror_mode": {
    "name": "ipython",
    "version": 3
   },
   "version": "3.6.1"
  },
  "orig_nbformat": 2,
  "file_extension": ".py",
  "mimetype": "text/x-python",
  "name": "python",
  "npconvert_exporter": "python",
  "pygments_lexer": "ipython3",
  "version": 3
 },
 "cells": [
  {
   "cell_type": "markdown",
   "metadata": {},
   "outputs": [],
   "source": [
    "# K-Means Clustering\n",
    "\n",
    "Rock Boynton | CS 4850 \n",
    "\n",
    "## Introduction\n",
    "\n",
    "In this notebook, we will implement and apply the K-Means clustering algorithm to some data, specifically the `gaussguess.csv` dataset.\n",
    "\n",
    "We will then run the following experiments:\n",
    "\n",
    "1. Initialization\n",
    "\n",
    "2. Local Optima\n",
    "\n",
    "3. Selecting K\n",
    "\n",
    "## Summary of Results\n",
    "\n",
    "TODO\n",
    "\n",
    "---"
   ]
  },
  {
   "cell_type": "markdown",
   "metadata": {},
   "outputs": [],
   "source": [
    "## Experiments\n",
    "\n",
    "Before we begin our experiments, let's import some boilerplate libraries that we will need"
   ]
  },
  {
   "cell_type": "code",
   "metadata": {},
   "outputs": [],
   "source": [
    "import numpy as np\n",
    "import matplotlib.pyplot as plt"
   ]
  },
  {
   "cell_type": "markdown",
   "metadata": {},
   "outputs": [],
   "source": [
    "### Experiment 1: Initialization"
   ]
  },
  {
   "cell_type": "code",
   "metadata": {},
   "outputs": [],
   "source": [
    "# Step 1: Import our KMeans class\n",
    "import KMeans\n",
    "\n",
    "# Step 2: Load in the provided data file “gaussguess.csv” and create a 2D Numpy array from it.\n",
    "datapath = 'gaussguess.csv'\n",
    "data = np.loadtxt(datapath, delimiter=',')\n",
    "\n",
    "data"
   ]
  },
  {
   "cell_type": "code",
   "metadata": {},
   "outputs": [],
   "source": []
  }
 ]
}